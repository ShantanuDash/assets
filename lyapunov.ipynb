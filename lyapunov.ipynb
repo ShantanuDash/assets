{
 "cells": [
  {
   "cell_type": "markdown",
   "metadata": {},
   "source": [
    "First we import the expressions of the given system and the functions to evaluate them by importing \n",
    "them from `inisym.py`. \n",
    "\n",
    "_Note: All the expressions and functions have been stored in a separate file to improve modularity and make the following code easy on eyes. They could just have been defined here._"
   ]
  },
  {
   "cell_type": "code",
   "execution_count": 1,
   "metadata": {},
   "outputs": [
    {
     "name": "stderr",
     "output_type": "stream",
     "text": [
      "C:\\Users\\admin\\Anaconda3\\lib\\site-packages\\numpy\\_distributor_init.py:32: UserWarning: loaded more than 1 DLL from .libs:\n",
      "C:\\Users\\admin\\Anaconda3\\lib\\site-packages\\numpy\\.libs\\libopenblas.GK7GX5KEQ4F6UYO3P26ULGBQYHGQO7J4.gfortran-win_amd64.dll\n",
      "C:\\Users\\admin\\Anaconda3\\lib\\site-packages\\numpy\\.libs\\libopenblas.WCDJNK7YVMPZQ2ME2ZZHJJRJ3JIKNDB7.gfortran-win_amd64.dll\n",
      "  stacklevel=1)\n"
     ]
    }
   ],
   "source": [
    "from inisym import *"
   ]
  },
  {
   "cell_type": "code",
   "execution_count": 2,
   "metadata": {
    "scrolled": true
   },
   "outputs": [
    {
     "name": "stdout",
     "output_type": "stream",
     "text": [
      "Help on function evaluate in module inisym:\n",
      "\n",
      "evaluate(X, Y, U, V, epsilon1=6, epsilon2=8, b=1, p=1, C=1, w=5)\n",
      "    input format: X,Y,U,V,epsilon1=6,epsilon2=8,b=1,p=1,C=1,w=5\n",
      "\n",
      "_________________________________________________________________________________________\n",
      "\n",
      "\n",
      " \n",
      "\tinput format: x0,y0,u0,v0,t0,epsilon1=6,epsilon2=8,b=1,p=1,C=1,w=5,steps=1000,delta_t=0.01\n",
      "\tusage : x1,y1,u1,v1,t1=compute(0.1,0,0,0,t0,p,steps)\t\n",
      "\t\n"
     ]
    }
   ],
   "source": [
    "#we take a look at the input parameters of the functions we imported by two methods\n",
    "help(evaluate)\n",
    "print(\"_________________________________________________________________________________________\\n\\n\")\n",
    "print(compute.__doc__)"
   ]
  },
  {
   "cell_type": "markdown",
   "metadata": {},
   "source": [
    "## The Maximum Lyapunov exponent is defined in the following two ways:\n",
    "\n",
    "![MLE-Defination](defination-mle.png)"
   ]
  },
  {
   "cell_type": "markdown",
   "metadata": {},
   "source": [
    "### Using the first defination.\n"
   ]
  },
  {
   "cell_type": "code",
   "execution_count": 6,
   "metadata": {},
   "outputs": [],
   "source": [
    "d0=1e-5\n",
    "n=1000\n",
    "dt=0.01\n",
    "x1,y1,u1,v1,t1=compute(0.1,0,0,0,0.0,p=1,steps=n,delta_t=dt)\n",
    "x2,y2,u2,v2,t2=compute(0.1+d0,0+d0,0+d0,0+d0,0.0,p=1,steps=n,delta_t=dt)"
   ]
  },
  {
   "cell_type": "code",
   "execution_count": null,
   "metadata": {},
   "outputs": [],
   "source": [
    "# print(x1,x2,y1,y2)\n",
    "# d1=[]\n",
    "# for i in range(steps+1):\n",
    "#     d1.append(np.sqrt((x1[i]-x2[i])**2+(y1[i]-y2[i])**2))"
   ]
  },
  {
   "cell_type": "markdown",
   "metadata": {},
   "source": [
    "### Using the second defination"
   ]
  },
  {
   "cell_type": "code",
   "execution_count": null,
   "metadata": {},
   "outputs": [],
   "source": [
    "x"
   ]
  },
  {
   "cell_type": "code",
   "execution_count": 17,
   "metadata": {},
   "outputs": [],
   "source": [
    "summation=0.0\n",
    "k=0\n",
    "for i in range(1,n+1):\n",
    "    k=k+1\n",
    "    summation=summation+ np.log(np.abs((x2[i]-x2[i-1])/dt))"
   ]
  },
  {
   "cell_type": "code",
   "execution_count": 18,
   "metadata": {},
   "outputs": [
    {
     "data": {
      "text/plain": [
       "[-0.5949517427471832]"
      ]
     },
     "execution_count": 18,
     "metadata": {},
     "output_type": "execute_result"
    }
   ],
   "source": [
    "lamda=[]\n",
    "lamda.append(summation/k)\n",
    "from IPython.display import Latex \n",
    "Latex('\\lambda_{x}=')\n",
    "lamda"
   ]
  },
  {
   "cell_type": "code",
   "execution_count": null,
   "metadata": {},
   "outputs": [],
   "source": []
  }
 ],
 "metadata": {
  "kernelspec": {
   "display_name": "Python 3",
   "language": "python",
   "name": "python3"
  }
 },
 "nbformat": 4,
 "nbformat_minor": 2
}
