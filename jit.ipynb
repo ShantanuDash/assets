{
 "cells": [
  {
   "cell_type": "code",
   "execution_count": 1,
   "metadata": {},
   "outputs": [
    {
     "name": "stderr",
     "output_type": "stream",
     "text": [
      "C:\\Users\\admin\\Anaconda3\\lib\\site-packages\\numpy\\_distributor_init.py:32: UserWarning: loaded more than 1 DLL from .libs:\n",
      "C:\\Users\\admin\\Anaconda3\\lib\\site-packages\\numpy\\.libs\\libopenblas.GK7GX5KEQ4F6UYO3P26ULGBQYHGQO7J4.gfortran-win_amd64.dll\n",
      "C:\\Users\\admin\\Anaconda3\\lib\\site-packages\\numpy\\.libs\\libopenblas.WCDJNK7YVMPZQ2ME2ZZHJJRJ3JIKNDB7.gfortran-win_amd64.dll\n",
      "  stacklevel=1)\n"
     ]
    }
   ],
   "source": [
    "from numba import jit, njit, vectorize\n",
    "import random\n",
    "\n",
    "# #@jit(nopython=True)\n",
    "# def monte_carlo_pi(nsamples):\n",
    "#     acc = 0\n",
    "#     for i in range(nsamples):\n",
    "#         x = random.random()\n",
    "#         y = random.random()\n",
    "#         if (x ** 2 + y ** 2) < 1.0:\n",
    "#             acc += 1\n",
    "#     return 4.0 * acc / nsamples"
   ]
  },
  {
   "cell_type": "code",
   "execution_count": 25,
   "metadata": {},
   "outputs": [
    {
     "name": "stdout",
     "output_type": "stream",
     "text": [
      "Wall time: 25.6 ms\n"
     ]
    },
    {
     "data": {
      "text/plain": [
       "3.1408"
      ]
     },
     "execution_count": 25,
     "metadata": {},
     "output_type": "execute_result"
    }
   ],
   "source": [
    "%time monte_carlo_pi(10000)"
   ]
  },
  {
   "cell_type": "code",
   "execution_count": 26,
   "metadata": {},
   "outputs": [],
   "source": [
    "monte_jit=jit()(monte_carlo_pi)"
   ]
  },
  {
   "cell_type": "code",
   "execution_count": 28,
   "metadata": {},
   "outputs": [
    {
     "name": "stdout",
     "output_type": "stream",
     "text": [
      "Wall time: 0 ns\n"
     ]
    },
    {
     "data": {
      "text/plain": [
       "3.15"
      ]
     },
     "execution_count": 28,
     "metadata": {},
     "output_type": "execute_result"
    }
   ],
   "source": [
    "%time monte_jit(10000)"
   ]
  },
  {
   "cell_type": "code",
   "execution_count": 29,
   "metadata": {},
   "outputs": [],
   "source": [
    "def func(inp):\n",
    "    out=[]\n",
    "    for itm in inp:\n",
    "        if itm%2==0:\n",
    "            out.append(2)\n",
    "        else:\n",
    "            out.append('1')\n",
    "    return out"
   ]
  },
  {
   "cell_type": "code",
   "execution_count": 33,
   "metadata": {},
   "outputs": [],
   "source": [
    "test=list(range(int(1e6)))"
   ]
  },
  {
   "cell_type": "code",
   "execution_count": null,
   "metadata": {},
   "outputs": [],
   "source": [
    "import timeit\n",
    "timeit.timeit(\"func(test)\",globals=globals())"
   ]
  },
  {
   "cell_type": "code",
   "execution_count": 37,
   "metadata": {},
   "outputs": [],
   "source": [
    "fun=jit()(func)"
   ]
  },
  {
   "cell_type": "code",
   "execution_count": 44,
   "metadata": {},
   "outputs": [
    {
     "name": "stderr",
     "output_type": "stream",
     "text": [
      "UsageError: %%time is a cell magic, but the cell body is empty. Did you mean the line magic %time (single %)?\n"
     ]
    }
   ],
   "source": [
    "%time a=fun()"
   ]
  },
  {
   "cell_type": "code",
   "execution_count": 43,
   "metadata": {},
   "outputs": [],
   "source": [
    "from sympy import *\n",
    "import numpy as np\n",
    "\n",
    "x, y ,z = symbols('x, y, z')\n",
    "eq1 = Eq(x-5*y**2-z, 4)\n",
    "eq2 = Eq(x**2 + y+9*z, 0)\n",
    "eq3 = Eq(x+y+z,5)\n",
    "\n",
    "sol = solve([eq1, eq2,eq3], [x, y,z])"
   ]
  },
  {
   "cell_type": "code",
   "execution_count": null,
   "metadata": {},
   "outputs": [],
   "source": [
    "t=[tuple(v.evalf() for v in s) for s in sol]\n",
    "t"
   ]
  },
  {
   "cell_type": "code",
   "execution_count": 17,
   "metadata": {},
   "outputs": [
    {
     "data": {
      "text/plain": [
       "[-2.56155281280883,\n",
       " -2.56155281280883,\n",
       " 1.56155281280883,\n",
       " 1.56155281280883,\n",
       " -1.30277563773199,\n",
       " 2.30277563773199,\n",
       " 2.30277563773199,\n",
       " -1.30277563773199]"
      ]
     },
     "execution_count": 17,
     "metadata": {},
     "output_type": "execute_result"
    }
   ],
   "source": [
    "f=[q.evalf() for p in sol for q in p]\n",
    "f"
   ]
  },
  {
   "cell_type": "code",
   "execution_count": 44,
   "metadata": {},
   "outputs": [
    {
     "name": "stdout",
     "output_type": "stream",
     "text": [
      "Wall time: 0 ns\n"
     ]
    },
    {
     "data": {
      "text/plain": [
       "array([], dtype=float64)"
      ]
     },
     "execution_count": 44,
     "metadata": {},
     "output_type": "execute_result"
    }
   ],
   "source": [
    "%%time\n",
    "s=[list(p.evalf() for p in r ) for r in sol]\n",
    "np.array(s,dtype=float)"
   ]
  },
  {
   "cell_type": "code",
   "execution_count": 45,
   "metadata": {},
   "outputs": [
    {
     "data": {
      "text/plain": [
       "[]"
      ]
     },
     "execution_count": 45,
     "metadata": {},
     "output_type": "execute_result"
    }
   ],
   "source": [
    "sol"
   ]
  },
  {
   "cell_type": "code",
   "execution_count": 37,
   "metadata": {},
   "outputs": [
    {
     "name": "stdout",
     "output_type": "stream",
     "text": [
      "Wall time: 44.6 ms\n"
     ]
    },
    {
     "data": {
      "text/plain": [
       "array([[-2.56155281, -2.56155281],\n",
       "       [ 1.56155281,  1.56155281],\n",
       "       [-1.30277564,  2.30277564],\n",
       "       [ 2.30277564, -1.30277564]])"
      ]
     },
     "execution_count": 37,
     "metadata": {},
     "output_type": "execute_result"
    }
   ],
   "source": [
    "%%time\n",
    "np.array(sol,dtype=float)"
   ]
  },
  {
   "cell_type": "code",
   "execution_count": 12,
   "metadata": {},
   "outputs": [
    {
     "name": "stdout",
     "output_type": "stream",
     "text": [
      "lamda1_p_1= -1.4460099085225844\n",
      "lamda2_p_1= -1.4460099085225844\n"
     ]
    }
   ],
   "source": [
    "#!/usr/bin/env python\n",
    "# coding: utf-8\n",
    "\n",
    "\n",
    "import numpy as np\n",
    "from sympy.abc import c,x,y,u,v,omega,rho,beta\n",
    "from sympy import symbols\n",
    "\n",
    "ep1,ep2=symbols(\"epsilon_1 epsilon_2\")\n",
    "e1=x*(1-x**2-y**2)-omega*y+ep1*u\n",
    "e2=y*(1-x**2-y**2)+omega*x\n",
    "e3=rho*v\n",
    "e4=-rho*beta*u-c*v+ep2*x\n",
    "\n",
    "# define equation\n",
    "#@jit(nopython=False)\n",
    "def evaluate(X,Y,U,V,epsilon1=6,epsilon2=8,b=1,p=1,C=1,w=5):\n",
    "    ''' input format: X,Y,U,V,epsilon1=6,epsilon2=8,b=1,p=1,C=1,w=5'''\n",
    "    x_dot = e1.subs([(x,X),(y,Y),(u,U),(v,V),(beta,b),(rho,p),(c,C),(omega,w),(ep1,epsilon1),(ep2,epsilon2)])\n",
    "    y_dot = e2.subs([(x,X),(y,Y),(u,U),(v,V),(beta,b),(rho,p),(c,C),(omega,w),(ep1,epsilon1),(ep2,epsilon2)])\n",
    "    u_dot = e3.subs([(x,X),(y,Y),(u,U),(v,V),(beta,b),(rho,p),(c,C),(omega,w),(ep1,epsilon1),(ep2,epsilon2)])\n",
    "    v_dot = e4.subs([(x,X),(y,Y),(u,U),(v,V),(beta,b),(rho,p),(c,C),(omega,w),(ep1,epsilon1),(ep2,epsilon2)])\n",
    "\n",
    "    return x_dot.evalf(), y_dot.evalf(), u_dot.evalf(), v_dot.evalf()\n",
    "\n",
    "#@jit(nopython=False)\n",
    "def compute(x0,y0,u0,v0,t0,epsilon1=6,epsilon2=8,b=1,p=1,C=1,w=5,steps=1000,delta_t=0.01):\n",
    "    ''' \n",
    "    input format: x0,y0,u0,v0,t0,epsilon1=6,epsilon2=8,b=1,p=1,C=1,w=5,steps=1000,delta_t=0.01\n",
    "    usage : x1,y1,u1,v1,t1=compute(0.1,0,0,0,t0,p=2,steps=2000)\t\n",
    "    '''\n",
    "    steps=int(steps)\n",
    "    # initialize solutions arrays (+1 for initial conditions)\n",
    "    xx = np.empty((steps + 1))\n",
    "    yy = np.empty((steps + 1))\n",
    "    uu = np.empty((steps + 1))\n",
    "    vv = np.empty((steps + 1))\n",
    "    tt = np.empty((steps+1))\n",
    "    # fill in initial conditions\n",
    "    xx[0], yy[0], uu[0], vv[0] = (x0,y0,u0,v0)\n",
    "    tt[0] = t0\n",
    "    # solve equation system\n",
    "\n",
    "    for i in range(steps):\n",
    "        # Calculate derivatives\n",
    "        x_dot, y_dot, u_dot, v_dot = evaluate(xx[i], yy[i], uu[i], vv[i],epsilon1,epsilon2,b,p,C,w)\n",
    "\n",
    "        tt[i+1] = tt[i] + delta_t\n",
    "\n",
    "        xx[i + 1] = xx[i] + (x_dot * delta_t)\n",
    "        yy[i + 1] = yy[i] + (y_dot * delta_t)\n",
    "        uu[i + 1] = uu[i] + (u_dot * delta_t)\n",
    "        vv[i + 1] = vv[i] + (v_dot * delta_t)\n",
    "    return xx,yy,uu,vv,tt\n",
    "\n",
    "#xaxis=np.linspace(-4,4,)\n",
    "for P in range(1,2):\n",
    "    n=1e3\n",
    "    dt=0.001\n",
    "    n=int(n)\n",
    "    x1,y1,u1,v1,t1=compute(0.1,0,0,0,0.0,p=P,steps=n,delta_t=dt)\n",
    "    summation1=0.0\n",
    "    summation2=0.0\n",
    "    k=0\n",
    "    for i in range(1,n+1):\n",
    "        k=k+1\n",
    "        summation1=summation1+ np.log(np.abs((x1[i]-x1[i-1])/dt))\n",
    "        summation2=summation2+ np.log(np.abs((y1[i]-y1[i-1])/dt))\n",
    "\n",
    "    lamda=[]\n",
    "    lamda.append(summation1/k)\n",
    "    lamda.append(summation1/k)\n",
    "    print(f\"lamda1_p_{P}=\", lamda[0])\n",
    "    print(f\"lamda2_p_{P}=\", lamda[1])\n",
    "\n",
    "    np.savetxt(f'x_{P}.txt', (x1))\n",
    "    np.savetxt(f'y_{P}.txt', (y1))\n",
    "\n",
    "\n"
   ]
  },
  {
   "cell_type": "code",
   "execution_count": null,
   "metadata": {},
   "outputs": [],
   "source": []
  }
 ],
 "metadata": {
  "kernelspec": {
   "display_name": "Python 3",
   "language": "python",
   "name": "python3"
  },
  "language_info": {
   "codemirror_mode": {
    "name": "ipython",
    "version": 3
   },
   "file_extension": ".py",
   "mimetype": "text/x-python",
   "name": "python",
   "nbconvert_exporter": "python",
   "pygments_lexer": "ipython3",
   "version": "3.7.4"
  }
 },
 "nbformat": 4,
 "nbformat_minor": 2
}
