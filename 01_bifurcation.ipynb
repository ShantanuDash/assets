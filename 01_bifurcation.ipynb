{
 "cells": [
  {
   "cell_type": "markdown",
   "metadata": {},
   "source": [
    "# 12.1. Plotting the bifurcation diagram of a chaotic dynamical system"
   ]
  },
  {
   "cell_type": "code",
   "execution_count": 15,
   "metadata": {},
   "outputs": [],
   "source": [
    "import numpy as np\n",
    "import matplotlib.pyplot as plt\n",
    "#%matplotlib inline\n",
    "import matplotlib as mpl\n",
    "\n",
    "#mpl.rcParams.update({\"axes.grid\" : True})"
   ]
  },
  {
   "cell_type": "code",
   "execution_count": 16,
   "metadata": {},
   "outputs": [],
   "source": [
    "def logistic(r, x):\n",
    "    return r * x * (1 - x)"
   ]
  },
  {
   "cell_type": "code",
   "execution_count": 17,
   "metadata": {
    "podoc": {
     "output_text": "<matplotlib.figure.Figure at 0x7f994e75dc88>"
    }
   },
   "outputs": [
    {
     "data": {
      "text/plain": [
       "[<matplotlib.lines.Line2D at 0x18743c48>]"
      ]
     },
     "execution_count": 17,
     "metadata": {},
     "output_type": "execute_result"
    }
   ],
   "source": [
    "x = np.linspace(0, 1)\n",
    "fig, ax = plt.subplots(1, 1)\n",
    "ax.plot(x, logistic(2, x), 'k')"
   ]
  },
  {
   "cell_type": "code",
   "execution_count": 28,
   "metadata": {
    "podoc": {
     "output_text": "<matplotlib.figure.Figure at 0x7f994e4f7c50>"
    }
   },
   "outputs": [
    {
     "name": "stdout",
     "output_type": "stream",
     "text": [
      "0.1 0.225\n",
      "0.225 0.43593750000000003\n",
      "0.43593750000000003 0.6147399902343749\n",
      "0.6147399902343749 0.5920868366025389\n",
      "0.5920868366025389 0.6038000363113433\n",
      "0.6038000363113433 0.5980638811544096\n",
      "0.5980638811544096 0.6009586880323347\n",
      "0.6009586880323347 0.5995183582769743\n",
      "0.5995183582769743 0.6002402409146395\n",
      "0.6002402409146395 0.5998797352534376\n",
      "0.5998797352534376 0.600060096214258\n",
      "0.600060096214258 0.5999699428639835\n",
      "0.5999699428639835 0.6000150263094297\n",
      "0.6000150263094297 0.5999924862808103\n",
      "0.5999924862808103 0.600003756718455\n",
      "0.600003756718455 0.5999981216054902\n",
      "0.5999981216054902 0.600000939188434\n",
      "0.600000939188434 0.5999995304035779\n",
      "0.5999995304035779 0.6000002347976597\n",
      "0.6000002347976597 0.5999998826010323\n",
      "0.1 0.31500000000000006\n",
      "0.31500000000000006 0.7552125000000001\n",
      "0.7552125000000001 0.6470330294531249\n",
      "0.6470330294531249 0.7993345088744278\n",
      "0.7993345088744278 0.5613959812891678\n",
      "0.5613959812891678 0.8618068671853906\n",
      "0.8618068671853906 0.416835268001226\n",
      "0.416835268001226 0.8507926957305024\n",
      "0.8507926957305024 0.444305696177445\n",
      "0.444305696177445 0.8641435058260233\n",
      "0.8641435058260233 0.41089827507656534\n",
      "0.41089827507656534 0.8472130891548401\n",
      "0.8472130891548401 0.4530507475184358\n",
      "0.4530507475184358 0.8672851869199782\n",
      "0.8672851869199782 0.40285557014204826\n",
      "0.40285557014204826 0.8419703591165073\n",
      "0.8419703591165073 0.4656969572000446\n",
      "0.4656969572000446 0.8708815543913254\n",
      "0.8708815543913254 0.39356405414296014\n",
      "0.39356405414296014 0.8353498630033106\n"
     ]
    }
   ],
   "source": [
    "%matplotlib qt\n",
    "def plot_system(r, x0, n, ax=None):\n",
    "    # Plot the function and the\n",
    "    # y=x diagonal line.\n",
    "    t = np.linspace(0, 1)\n",
    "    ax.plot(t, logistic(r, t), 'k', lw=2)\n",
    "    ax.plot([0, 1], [0, 1], 'k', lw=2)\n",
    "\n",
    "    # Recursively apply y=f(x) and plot two lines:\n",
    "    # (x, x) -> (x, y)\n",
    "    # (x, y) -> (y, y)\n",
    "    x = x0\n",
    "    for i in range(n):\n",
    "        y = logistic(r, x)\n",
    "        print(x,y)\n",
    "        ax.set_title(f\"$r={r:.1f}, \\, x_0={x0:.1f},t={(i+1)*1.0/n:.1f}$\")\n",
    "        \n",
    "        # Plot the two lines.\n",
    "        ax.plot([x, x], [x, y], 'k', lw=1)\n",
    "        plt.pause(0.4)\n",
    "        ax.plot([x, y], [y, y], 'b', lw=1)\n",
    "        plt.pause(0.4)\n",
    "        # Plot the positions with increasing\n",
    "        # opacity.\n",
    "        \n",
    "        ax.plot([x], [y], 'ok', ms=10,\n",
    "                alpha=(i + 1) / n)\n",
    "        x = y\n",
    "\n",
    "    ax.set_xlim(0, 1)\n",
    "    ax.set_ylim(0, 1)\n",
    "    \n",
    "\n",
    "\n",
    "fig, (ax1, ax2) = plt.subplots(1, 2, figsize=(12, 6),\n",
    "                               sharey=True)\n",
    "#plt.grid(True)\n",
    "plot_system(2.5, .1, 20, ax=ax1)\n",
    "\n",
    "plot_system(3.5, .1, 20, ax=ax2)"
   ]
  },
  {
   "cell_type": "code",
   "execution_count": 19,
   "metadata": {},
   "outputs": [],
   "source": [
    "n = 10000\n",
    "r = np.linspace(2.5, 4.0, n)"
   ]
  },
  {
   "cell_type": "code",
   "execution_count": 20,
   "metadata": {},
   "outputs": [],
   "source": [
    "iterations = 1000\n",
    "last = 100"
   ]
  },
  {
   "cell_type": "code",
   "execution_count": 21,
   "metadata": {},
   "outputs": [],
   "source": [
    "x = 1e-5 * np.ones(n)"
   ]
  },
  {
   "cell_type": "code",
   "execution_count": 22,
   "metadata": {},
   "outputs": [],
   "source": [
    "lyapunov = np.zeros(n)"
   ]
  },
  {
   "cell_type": "code",
   "execution_count": 30,
   "metadata": {
    "podoc": {
     "output_text": "<matplotlib.figure.Figure at 0x6fd1940>"
    }
   },
   "outputs": [],
   "source": [
    "fig, (ax1, ax2) = plt.subplots(2, 1, figsize=(8, 9),\n",
    "                               sharex=True)\n",
    "for i in range(iterations):\n",
    "    x = logistic(r, x)\n",
    "    # We compute the partial sum of the\n",
    "    # Lyapunov exponent.\n",
    "    lyapunov += np.log(abs(r - 2 * r * x))\n",
    "    # We display the bifurcation diagram.\n",
    "    if i >= (iterations - last):\n",
    "        ax1.plot(r, x, ',k', alpha=.25)\n",
    "ax1.set_xlim(2.5, 4)\n",
    "ax1.set_title(\"Bifurcation diagram\")\n",
    "\n",
    "# We display the Lyapunov exponent.\n",
    "# Horizontal line.\n",
    "ax2.axhline(0, color='k', lw=.5, alpha=.5)\n",
    "# Negative Lyapunov exponent.\n",
    "ax2.plot(r[lyapunov < 0],\n",
    "         lyapunov[lyapunov < 0] / iterations,\n",
    "         '.k', alpha=.5, ms=.5)\n",
    "# Positive Lyapunov exponent.\n",
    "ax2.plot(r[lyapunov >= 0],\n",
    "         lyapunov[lyapunov >= 0] / iterations,\n",
    "         '.r', alpha=.5, ms=.5)\n",
    "ax2.set_xlim(2.5, 4)\n",
    "ax2.set_ylim(-2, 1)\n",
    "ax2.set_title(\"Lyapunov exponent\")\n",
    "plt.tight_layout()"
   ]
  },
  {
   "cell_type": "code",
   "execution_count": null,
   "metadata": {},
   "outputs": [],
   "source": []
  }
 ],
 "metadata": {
  "kernelspec": {
   "display_name": "Python 3",
   "language": "python",
   "name": "python3"
  },
  "language_info": {
   "codemirror_mode": {
    "name": "ipython",
    "version": 3
   },
   "file_extension": ".py",
   "mimetype": "text/x-python",
   "name": "python",
   "nbconvert_exporter": "python",
   "pygments_lexer": "ipython3",
   "version": "3.7.4"
  }
 },
 "nbformat": 4,
 "nbformat_minor": 2
}
