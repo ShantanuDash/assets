{
 "cells": [
  {
   "cell_type": "code",
   "execution_count": null,
   "metadata": {},
   "outputs": [],
   "source": [
    "import numpy as np\n",
    "from sympy.abc import c,x,y,u,v,omega,rho,beta\n",
    "from sympy import symbols\n",
    "\n",
    "ep1,ep2=symbols(\"epsilon_1 epsilon_2\")\n",
    "e1=x*(1-x**2-y**2)-omega*y+ep1*u\n",
    "e2=y*(1-x**2-y**2)+omega*x\n",
    "e3=rho*v\n",
    "e4=-rho*beta*u-c*v+ep2*x\n",
    "\n",
    "# define equation\n",
    "def evaluate(X,Y,U,V,epsilon1=6,epsilon2=8,b=1,p=1,C=1,w=5):\n",
    "    ''' input format: X,Y,U,V,epsilon1=6,epsilon2=8,b=1,p=1,C=1,w=5'''\n",
    "    x_dot = e1.subs([(x,X),(y,Y),(u,U),(v,V),(beta,b),(rho,p),(c,C),(omega,w),(ep1,epsilon1),(ep2,epsilon2)])\n",
    "    y_dot = e2.subs([(x,X),(y,Y),(u,U),(v,V),(beta,b),(rho,p),(c,C),(omega,w),(ep1,epsilon1),(ep2,epsilon2)])\n",
    "    u_dot = e3.subs([(x,X),(y,Y),(u,U),(v,V),(beta,b),(rho,p),(c,C),(omega,w),(ep1,epsilon1),(ep2,epsilon2)])\n",
    "    v_dot = e4.subs([(x,X),(y,Y),(u,U),(v,V),(beta,b),(rho,p),(c,C),(omega,w),(ep1,epsilon1),(ep2,epsilon2)])\n",
    "\n",
    "    return x_dot.evalf(), y_dot.evalf(), u_dot.evalf(), v_dot.evalf()\n",
    "\n",
    "\n",
    "def compute(x0,y0,u0,v0,t0,epsilon1=6,epsilon2=8,b=1,p=1,C=1,w=5,steps=1000,delta_t=0.01):\n",
    "   ''' input format: x0,y0,u0,v0,t0,epsilon1=6,epsilon2=8,b=1,p=1,C=1,w=5,steps=1000,delta_t=0.01'''\n",
    "    # initialize solutions arrays (+1 for initial conditions)\n",
    "    xx = np.empty((steps + 1))\n",
    "    yy = np.empty((steps + 1))\n",
    "    uu = np.empty((steps + 1))\n",
    "    vv = np.empty((steps + 1))\n",
    "    tt = np.empty((steps+1))\n",
    "    # fill in initial conditions\n",
    "    xx[0], yy[0], uu[0], vv[0] = (x0,y0,u0,v0)\n",
    "    tt[0] = t0\n",
    "    # solve equation system\n",
    "\n",
    "    for i in range(steps):\n",
    "        # Calculate derivatives\n",
    "        x_dot, y_dot, u_dot, v_dot = evaluate(xx[i], yy[i], uu[i], vv[i],epsilon1,epsilon2,b,p,C,w)\n",
    "\n",
    "        tt[i+1] = tt[i] + delta_t\n",
    "\n",
    "        xx[i + 1] = xx[i] + (x_dot * delta_t)\n",
    "        yy[i + 1] = yy[i] + (y_dot * delta_t)\n",
    "        uu[i + 1] = uu[i] + (u_dot * delta_t)\n",
    "        vv[i + 1] = vv[i] + (v_dot * delta_t)\n",
    "    return xx,yy,uu,vv,tt\n",
    "\n",
    "\n",
    "#x1,y1,u1,v1,t1=compute(0.1,0,0,0,t0,p,steps)\n",
    "#x2,y2,u2,v2,t2=compute(0.1+d0,0+d0,0+d0,0+d0,t0,p,steps)\n",
    "\n"
   ]
  }
 ],
 "metadata": {
  "kernelspec": {
   "display_name": "Python 3",
   "language": "python",
   "name": "python3"
  },
  "language_info": {
   "codemirror_mode": {
    "name": "ipython",
    "version": 3
   },
   "file_extension": ".py",
   "mimetype": "text/x-python",
   "name": "python",
   "nbconvert_exporter": "python",
   "pygments_lexer": "ipython3",
   "version": "3.7.4"
  }
 },
 "nbformat": 4,
 "nbformat_minor": 2
}
